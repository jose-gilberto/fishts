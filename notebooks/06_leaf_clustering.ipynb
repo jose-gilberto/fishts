{
 "cells": [
  {
   "cell_type": "code",
   "execution_count": 1,
   "id": "8011dd05-3a45-4484-bf48-cbf03bb6df04",
   "metadata": {},
   "outputs": [],
   "source": [
    "import fishts\n",
    "import fishts.transformers as t\n",
    "from fishts.descriptors.time_series import extract_ts_descriptor\n",
    "import cv2\n",
    "import matplotlib.pyplot as plt\n",
    "import numpy as np\n",
    "import glob\n",
    "import hdbscan\n",
    "import tqdm\n",
    "import pandas as pd\n",
    "from dtaidistance import dtw"
   ]
  },
  {
   "cell_type": "code",
   "execution_count": 13,
   "id": "2fcc54e5-132f-44a8-966a-9421852618a0",
   "metadata": {},
   "outputs": [
    {
     "data": {
      "text/html": [
       "<div>\n",
       "<style scoped>\n",
       "    .dataframe tbody tr th:only-of-type {\n",
       "        vertical-align: middle;\n",
       "    }\n",
       "\n",
       "    .dataframe tbody tr th {\n",
       "        vertical-align: top;\n",
       "    }\n",
       "\n",
       "    .dataframe thead th {\n",
       "        text-align: right;\n",
       "    }\n",
       "</style>\n",
       "<table border=\"1\" class=\"dataframe\">\n",
       "  <thead>\n",
       "    <tr style=\"text-align: right;\">\n",
       "      <th></th>\n",
       "      <th>id</th>\n",
       "      <th>species</th>\n",
       "    </tr>\n",
       "  </thead>\n",
       "  <tbody>\n",
       "    <tr>\n",
       "      <th>0</th>\n",
       "      <td>1</td>\n",
       "      <td>Acer_Opalus</td>\n",
       "    </tr>\n",
       "    <tr>\n",
       "      <th>1</th>\n",
       "      <td>2</td>\n",
       "      <td>Pterocarya_Stenoptera</td>\n",
       "    </tr>\n",
       "    <tr>\n",
       "      <th>2</th>\n",
       "      <td>3</td>\n",
       "      <td>Quercus_Hartwissiana</td>\n",
       "    </tr>\n",
       "    <tr>\n",
       "      <th>3</th>\n",
       "      <td>5</td>\n",
       "      <td>Tilia_Tomentosa</td>\n",
       "    </tr>\n",
       "    <tr>\n",
       "      <th>4</th>\n",
       "      <td>6</td>\n",
       "      <td>Quercus_Variabilis</td>\n",
       "    </tr>\n",
       "    <tr>\n",
       "      <th>...</th>\n",
       "      <td>...</td>\n",
       "      <td>...</td>\n",
       "    </tr>\n",
       "    <tr>\n",
       "      <th>985</th>\n",
       "      <td>1575</td>\n",
       "      <td>Magnolia_Salicifolia</td>\n",
       "    </tr>\n",
       "    <tr>\n",
       "      <th>986</th>\n",
       "      <td>1578</td>\n",
       "      <td>Acer_Pictum</td>\n",
       "    </tr>\n",
       "    <tr>\n",
       "      <th>987</th>\n",
       "      <td>1581</td>\n",
       "      <td>Alnus_Maximowiczii</td>\n",
       "    </tr>\n",
       "    <tr>\n",
       "      <th>988</th>\n",
       "      <td>1582</td>\n",
       "      <td>Quercus_Rubra</td>\n",
       "    </tr>\n",
       "    <tr>\n",
       "      <th>989</th>\n",
       "      <td>1584</td>\n",
       "      <td>Quercus_Afares</td>\n",
       "    </tr>\n",
       "  </tbody>\n",
       "</table>\n",
       "<p>990 rows × 2 columns</p>\n",
       "</div>"
      ],
      "text/plain": [
       "       id                species\n",
       "0       1            Acer_Opalus\n",
       "1       2  Pterocarya_Stenoptera\n",
       "2       3   Quercus_Hartwissiana\n",
       "3       5        Tilia_Tomentosa\n",
       "4       6     Quercus_Variabilis\n",
       "..    ...                    ...\n",
       "985  1575   Magnolia_Salicifolia\n",
       "986  1578            Acer_Pictum\n",
       "987  1581     Alnus_Maximowiczii\n",
       "988  1582          Quercus_Rubra\n",
       "989  1584         Quercus_Afares\n",
       "\n",
       "[990 rows x 2 columns]"
      ]
     },
     "execution_count": 13,
     "metadata": {},
     "output_type": "execute_result"
    }
   ],
   "source": [
    "df = pd.read_csv('../data/leafs/train.csv')[['id', 'species']]\n",
    "df"
   ]
  },
  {
   "cell_type": "code",
   "execution_count": 16,
   "id": "3abbf9a6-9cdf-4126-93df-3bbfb9c66dc9",
   "metadata": {},
   "outputs": [
    {
     "data": {
      "text/plain": [
       "array([[1, 'Acer_Opalus'],\n",
       "       [2, 'Pterocarya_Stenoptera'],\n",
       "       [3, 'Quercus_Hartwissiana'],\n",
       "       ...,\n",
       "       [1581, 'Alnus_Maximowiczii'],\n",
       "       [1582, 'Quercus_Rubra'],\n",
       "       [1584, 'Quercus_Afares']], dtype=object)"
      ]
     },
     "execution_count": 16,
     "metadata": {},
     "output_type": "execute_result"
    }
   ],
   "source": [
    "df.values"
   ]
  },
  {
   "cell_type": "code",
   "execution_count": 19,
   "id": "7c268c2d-0a71-4b17-ab1e-62959ec50b6a",
   "metadata": {},
   "outputs": [],
   "source": [
    "time_series = []\n",
    "ids = []\n",
    "angles = 720\n",
    "\n",
    "transforms = t.Compose([\n",
    "    t.ConvertColor(cv2.COLOR_BGR2GRAY),\n",
    "    t.Resize(proportion_scale=True, g_measure=300),\n",
    "    t.GaussianBlur(kernel_size=(5,5), sigma_x=0),\n",
    "    t.Threshold(60, 255, cv2.THRESH_BINARY),\n",
    "    t.CannyEdge(threshold_1=50, threshold_2=100),\n",
    "    t.Dilate(kernel=None, iterations=1),\n",
    "    t.Erode(kernel=None, iterations=1),\n",
    "])"
   ]
  },
  {
   "cell_type": "code",
   "execution_count": 20,
   "id": "6aded62e-943d-4471-a14a-6612ec25f49a",
   "metadata": {},
   "outputs": [
    {
     "name": "stderr",
     "output_type": "stream",
     "text": [
      "100%|████████████████████████████████████████████████████████████████████████████████| 990/990 [02:14<00:00,  7.35it/s]\n"
     ]
    }
   ],
   "source": [
    "for value in tqdm.tqdm(list(df.values)):\n",
    "    id, specie = value\n",
    "\n",
    "    image = cv2.imread(f'../data/leafs/{id}.jpg')\n",
    "    \n",
    "    transformed = transforms(image)\n",
    "\n",
    "    ts = extract_ts_descriptor(transformed, start_angle=0, end_angle=angles, step=1)\n",
    "    \n",
    "    time_series.append(ts)\n",
    "    ids.append(id)"
   ]
  },
  {
   "cell_type": "code",
   "execution_count": 21,
   "id": "5c973aa4-70bf-486a-bf5c-5be16d46d62a",
   "metadata": {},
   "outputs": [
    {
     "data": {
      "text/plain": [
       "(990, 720)"
      ]
     },
     "execution_count": 21,
     "metadata": {},
     "output_type": "execute_result"
    }
   ],
   "source": [
    "time_series = np.array(time_series)\n",
    "time_series.shape"
   ]
  },
  {
   "cell_type": "code",
   "execution_count": 22,
   "id": "529bd57b-852b-43b5-ab7e-d8a5551fc89f",
   "metadata": {},
   "outputs": [],
   "source": [
    "distance_matrix = dtw.distance_matrix_fast(time_series)"
   ]
  },
  {
   "cell_type": "code",
   "execution_count": 23,
   "id": "2ffa04c9-fd0e-4b02-9a38-b2b6c8531de0",
   "metadata": {},
   "outputs": [
    {
     "data": {
      "text/plain": [
       "(990, 990)"
      ]
     },
     "execution_count": 23,
     "metadata": {},
     "output_type": "execute_result"
    }
   ],
   "source": [
    "distance_matrix.shape"
   ]
  },
  {
   "cell_type": "code",
   "execution_count": 27,
   "id": "8bbefbc5-be4f-4ea7-904d-30ef88fd21a7",
   "metadata": {},
   "outputs": [
    {
     "data": {
      "text/plain": [
       "HDBSCAN(cluster_selection_method='leaf', gen_min_span_tree=True,\n",
       "        metric='precomputed', min_samples=3)"
      ]
     },
     "execution_count": 27,
     "metadata": {},
     "output_type": "execute_result"
    }
   ],
   "source": [
    "model = hdbscan.HDBSCAN(metric='precomputed', gen_min_span_tree=True, min_cluster_size=5, min_samples=3, cluster_selection_method='leaf')\n",
    "model"
   ]
  },
  {
   "cell_type": "code",
   "execution_count": 28,
   "id": "9d3f087c-8a18-4acb-abb0-fdf6f2529615",
   "metadata": {},
   "outputs": [
    {
     "data": {
      "text/plain": [
       "HDBSCAN(cluster_selection_method='leaf', gen_min_span_tree=True,\n",
       "        metric='precomputed', min_samples=3)"
      ]
     },
     "execution_count": 28,
     "metadata": {},
     "output_type": "execute_result"
    }
   ],
   "source": [
    "model.fit(distance_matrix)"
   ]
  },
  {
   "cell_type": "code",
   "execution_count": 29,
   "id": "10d066e3-b2cd-4b49-969d-2131d5f7f572",
   "metadata": {},
   "outputs": [
    {
     "data": {
      "text/plain": [
       "array([[ -1, 624],\n",
       "       [  0,   5],\n",
       "       [  1,   8],\n",
       "       [  2,   8],\n",
       "       [  3,   8],\n",
       "       [  4,  13],\n",
       "       [  5,   7],\n",
       "       [  6,  10],\n",
       "       [  7,   7],\n",
       "       [  8,   8],\n",
       "       [  9,   9],\n",
       "       [ 10,   8],\n",
       "       [ 11,   7],\n",
       "       [ 12,   7],\n",
       "       [ 13,   9],\n",
       "       [ 14,   6],\n",
       "       [ 15,   9],\n",
       "       [ 16,   6],\n",
       "       [ 17,  10],\n",
       "       [ 18,   5],\n",
       "       [ 19,   5],\n",
       "       [ 20,   7],\n",
       "       [ 21,  10],\n",
       "       [ 22,   5],\n",
       "       [ 23,   6],\n",
       "       [ 24,  19],\n",
       "       [ 25,  27],\n",
       "       [ 26,   7],\n",
       "       [ 27,  20],\n",
       "       [ 28,   6],\n",
       "       [ 29,   5],\n",
       "       [ 30,  23],\n",
       "       [ 31,  11],\n",
       "       [ 32,  26],\n",
       "       [ 33,  21],\n",
       "       [ 34,  18]], dtype=int64)"
      ]
     },
     "execution_count": 29,
     "metadata": {},
     "output_type": "execute_result"
    }
   ],
   "source": [
    "# model.labels_\n",
    "unique, counts = np.unique(model.labels_, return_counts=True)\n",
    "np.asarray((unique, counts)).T"
   ]
  },
  {
   "cell_type": "code",
   "execution_count": 30,
   "id": "67b73ae0-0949-4147-bfda-ef32680b03da",
   "metadata": {},
   "outputs": [
    {
     "data": {
      "image/png": "[encoded data removed]",
      "text/plain": [
       "<Figure size 1296x864 with 2 Axes>"
      ]
     },
     "metadata": {
      "needs_background": "light"
     },
     "output_type": "display_data"
    }
   ],
   "source": [
    "fig, ax = plt.subplots(1, 1, figsize=(18, 12))\n",
    "model.single_linkage_tree_.plot(cmap='viridis', colorbar=True, axis=ax)\n",
    "plt.show()"
   ]
  },
  {
   "cell_type": "code",
   "execution_count": 31,
   "id": "8dcdef73-2810-44b4-b622-f9e025ab5173",
   "metadata": {},
   "outputs": [
    {
     "data": {
      "image/png": "[encoded data removed]",
      "text/plain": [
       "<Figure size 864x864 with 2 Axes>"
      ]
     },
     "metadata": {
      "needs_background": "light"
     },
     "output_type": "display_data"
    }
   ],
   "source": [
    "fig, ax = plt.subplots(1, 1, figsize=(12, 12))\n",
    "model.condensed_tree_.plot(axis=ax)\n",
    "plt.show()"
   ]
  },
  {
   "cell_type": "code",
   "execution_count": 32,
   "id": "1a22c719-b7be-4f13-87c2-12ac241001e9",
   "metadata": {},
   "outputs": [
    {
     "data": {
      "image/png": "[encoded data removed]",
      "text/plain": [
       "<Figure size 864x864 with 2 Axes>"
      ]
     },
     "metadata": {
      "needs_background": "light"
     },
     "output_type": "display_data"
    }
   ],
   "source": [
    "import seaborn as sns\n",
    "fig, ax = plt.subplots(1, 1, figsize=(12, 12))\n",
    "model.condensed_tree_.plot(select_clusters=True, selection_palette=sns.color_palette(), axis=ax)\n",
    "plt.show()"
   ]
  },
  {
   "cell_type": "code",
   "execution_count": 33,
   "id": "edffe924-b3f3-4841-b0e7-7629570868b7",
   "metadata": {},
   "outputs": [
    {
     "data": {
      "text/plain": [
       "-0.3209423423962036"
      ]
     },
     "execution_count": 33,
     "metadata": {},
     "output_type": "execute_result"
    }
   ],
   "source": [
    "from sklearn.metrics import silhouette_score\n",
    "silhouette_score(distance_matrix, model.labels_, metric='precomputed')"
   ]
  }
 ],
 "metadata": {
  "kernelspec": {
   "display_name": "Python 3 (ipykernel)",
   "language": "python",
   "name": "python3"
  },
  "language_info": {
   "codemirror_mode": {
    "name": "ipython",
    "version": 3
   },
   "file_extension": ".py",
   "mimetype": "text/x-python",
   "name": "python",
   "nbconvert_exporter": "python",
   "pygments_lexer": "ipython3",
   "version": "3.9.7"
  }
 },
 "nbformat": 4,
 "nbformat_minor": 5
}
